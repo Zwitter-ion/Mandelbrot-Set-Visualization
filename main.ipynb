{
 "cells": [
  {
   "cell_type": "markdown",
   "metadata": {},
   "source": [
    "Importing the module"
   ]
  },
  {
   "cell_type": "code",
   "execution_count": 1,
   "metadata": {},
   "outputs": [],
   "source": [
    "import numpy as np\n",
    "import matplotlib.pyplot as plt\n",
    "import torch"
   ]
  },
  {
   "cell_type": "code",
   "execution_count": 2,
   "metadata": {},
   "outputs": [],
   "source": [
    "\n",
    "# class mandelbortSet():\n",
    "\n",
    "#     def getComplex(realValue, imaginaryValue):\n",
    "#         complexNumber = np.complex64(realValue, imaginaryValue)\n",
    "#         return complexNumber\n",
    "    \n",
    "#     def mandelbortSet(complexNumber, maxIteration, Z):\n",
    "\n",
    "#         complexNumber\n",
    "\n",
    "#         for iter in range(maxIteration):\n",
    "#             if 2 > abs(Z) > -1.5:\n",
    "#                 Z = Z*Z + complexNumber\n",
    "#                 # print(Z)\n",
    "#             else:\n",
    "#                 return iter\n",
    "                     \n",
    "#         return "
   ]
  },
  {
   "cell_type": "code",
   "execution_count": 3,
   "metadata": {},
   "outputs": [],
   "source": [
    "# def graphe(xmin, xmax, ymin, ymax, width, height):\n",
    "#     x = np.linspace(xmin, xmax, width)\n",
    "#     y = np.linspace(ymin, ymax, height)\n",
    "#     mset = np.zeros((height,width))\n",
    "\n",
    "#     for i in range(height):\n",
    "#         for j in range(width):\n",
    "#             mset[i,j] = mandelbortSet.mandelbortSet(complex(x[j], y[i]),100, 0) # type: ignore\n",
    "    \n",
    "#     return mset"
   ]
  },
  {
   "cell_type": "code",
   "execution_count": 4,
   "metadata": {},
   "outputs": [],
   "source": [
    "xmin, xmax, ymin, ymax = -2, 1,-1.5,1.5\n",
    "width,height = 10000,10000\n"
   ]
  },
  {
   "cell_type": "code",
   "execution_count": 5,
   "metadata": {},
   "outputs": [],
   "source": [
    "# image = graphe(xmin,xmax,ymin,ymax,width,height)"
   ]
  },
  {
   "cell_type": "markdown",
   "metadata": {},
   "source": [
    "Time recorded for generating the graph is min  seconds."
   ]
  },
  {
   "cell_type": "code",
   "execution_count": 6,
   "metadata": {},
   "outputs": [],
   "source": [
    "# dataFile = open('data.txt', 'w')\n",
    "\n",
    "# dataFile.write(str(image))"
   ]
  },
  {
   "cell_type": "code",
   "execution_count": 7,
   "metadata": {},
   "outputs": [],
   "source": [
    "# np.savetxt('my_file.txt', image)"
   ]
  },
  {
   "cell_type": "code",
   "execution_count": 8,
   "metadata": {},
   "outputs": [],
   "source": [
    "image = torch.from_numpy(np.loadtxt(\"./my_file.txt\"))"
   ]
  },
  {
   "cell_type": "code",
   "execution_count": 9,
   "metadata": {},
   "outputs": [
    {
     "name": "stdout",
     "output_type": "stream",
     "text": [
      "tensor([[1., 1., 1.,  ..., 2., 2., 2.],\n",
      "        [1., 1., 1.,  ..., 2., 2., 2.],\n",
      "        [1., 1., 1.,  ..., 2., 2., 2.],\n",
      "        ...,\n",
      "        [1., 1., 1.,  ..., 2., 2., 2.],\n",
      "        [1., 1., 1.,  ..., 2., 2., 2.],\n",
      "        [1., 1., 1.,  ..., 2., 2., 2.]], dtype=torch.float64)\n"
     ]
    }
   ],
   "source": [
    "print(image)"
   ]
  },
  {
   "cell_type": "code",
   "execution_count": 13,
   "metadata": {},
   "outputs": [
    {
     "data": {
      "text/plain": [
       "<Figure size 16000x16000 with 0 Axes>"
      ]
     },
     "execution_count": 13,
     "metadata": {},
     "output_type": "execute_result"
    },
    {
     "data": {
      "text/plain": [
       "<Figure size 16000x16000 with 0 Axes>"
      ]
     },
     "metadata": {},
     "output_type": "display_data"
    }
   ],
   "source": []
  },
  {
   "cell_type": "code",
   "execution_count": 15,
   "metadata": {},
   "outputs": [
    {
     "ename": "",
     "evalue": "",
     "output_type": "error",
     "traceback": [
      "\u001b[1;31mThe Kernel crashed while executing code in the the current cell or a previous cell. Please review the code in the cell(s) to identify a possible cause of the failure. Click <a href='https://aka.ms/vscodeJupyterKernelCrash'>here</a> for more info. View Jupyter <a href='command:jupyter.viewOutput'>log</a> for further details."
     ]
    }
   ],
   "source": [
    "plt.figure(figsize=(20,20), dpi=700)\n",
    "\n",
    "plt.imshow(image, extent=[xmin,xmax,ymin,ymax], cmap = 'inferno') # type: ignore\n",
    "\n",
    "plt.title(\"Mandelbort Set\")\n",
    "\n",
    "plt.xlabel(\"Real Axis\")\n",
    "\n",
    "plt.ylabel('Complex Axis')\n",
    "\n",
    "plt.show()"
   ]
  },
  {
   "cell_type": "markdown",
   "metadata": {},
   "source": [
    "The final output."
   ]
  }
 ],
 "metadata": {
  "kernelspec": {
   "display_name": "Python 3",
   "language": "python",
   "name": "python3"
  },
  "language_info": {
   "codemirror_mode": {
    "name": "ipython",
    "version": 3
   },
   "file_extension": ".py",
   "mimetype": "text/x-python",
   "name": "python",
   "nbconvert_exporter": "python",
   "pygments_lexer": "ipython3",
   "version": "3.10.13"
  }
 },
 "nbformat": 4,
 "nbformat_minor": 2
}
